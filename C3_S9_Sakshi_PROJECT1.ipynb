{
 "cells": [
  {
   "cell_type": "markdown",
   "id": "1df8ea14-f5ed-4fd6-8456-b670ffc28fdf",
   "metadata": {},
   "source": [
    "### CONSOLE BASED GAMES"
   ]
  },
  {
   "cell_type": "markdown",
   "id": "3620a583-1651-4461-92ca-f5e496e9543c",
   "metadata": {},
   "source": [
    "### TASK 1"
   ]
  },
  {
   "cell_type": "code",
   "execution_count": 1,
   "id": "f2de0cd9-448e-4069-b084-3a33668aefcb",
   "metadata": {},
   "outputs": [
    {
     "name": "stdout",
     "output_type": "stream",
     "text": [
      "Welcome to the Riddle Game:\n",
      "\n",
      "Riddle:\n",
      "What has keys but can't open locks?\n"
     ]
    },
    {
     "name": "stdin",
     "output_type": "stream",
     "text": [
      "\n",
      "Please enter your answer: keyboard\n"
     ]
    },
    {
     "name": "stdout",
     "output_type": "stream",
     "text": [
      "\n",
      "Correct!\n",
      "\n",
      "Riddle:\n",
      "What has hands but can’t clap?\n"
     ]
    },
    {
     "name": "stdin",
     "output_type": "stream",
     "text": [
      "\n",
      "Please enter your answer: none\n"
     ]
    },
    {
     "name": "stdout",
     "output_type": "stream",
     "text": [
      "\n",
      "Incorrect! The correct answer is clock\n",
      "\n",
      "Riddle:\n",
      "What has to be broken before you can use it?\n"
     ]
    },
    {
     "name": "stdin",
     "output_type": "stream",
     "text": [
      "\n",
      "Please enter your answer: candle\n"
     ]
    },
    {
     "name": "stdout",
     "output_type": "stream",
     "text": [
      "\n",
      "Incorrect! The correct answer is egg\n",
      "\n",
      "Riddle:\n",
      "I’m tall when I’m young and short when I’m old. What am I?\n"
     ]
    },
    {
     "name": "stdin",
     "output_type": "stream",
     "text": [
      "\n",
      "Please enter your answer: egg\n"
     ]
    },
    {
     "name": "stdout",
     "output_type": "stream",
     "text": [
      "\n",
      "Incorrect! The correct answer is candle\n"
     ]
    },
    {
     "name": "stdin",
     "output_type": "stream",
     "text": [
      "\n",
      "Do you want to play the riddles again? (yes/no):  no\n"
     ]
    },
    {
     "name": "stdout",
     "output_type": "stream",
     "text": [
      "\n",
      "Game Over! You got 1 out of 4 correct.\n",
      "Your score: 25.0%\n"
     ]
    }
   ],
   "source": [
    "def riddle_game(): #creating a function\n",
    "    print(\"Welcome to the Riddle Game:\") \n",
    "    \n",
    "    total_attempts = 0 #initializing variables total_attempts to track how many times user is playing\n",
    "    correct_answers = 0 # to calculate the score \n",
    "\n",
    "\n",
    "    #Creating a dictionary with riddles and their answers\n",
    "    riddles = {\"What has keys but can't open locks?\": \"keyboard\",\n",
    "        \"What has hands but can’t clap?\": \"clock\",\n",
    "        \"What has to be broken before you can use it?\": \"egg\",\n",
    "        \"I’m tall when I’m young and short when I’m old. What am I?\": \"candle\"\n",
    "    }\n",
    "\n",
    "    #Initializing a loop \n",
    "    while True:\n",
    "        for question, answer in riddles.items(): # for key and value in riddles dictionary\n",
    "            print(\"\\nRiddle:\")\n",
    "            print(question) # this will display the question from riddles dictionary\n",
    "            user_answer = input(\"\\nPlease enter your answer:\")  # user will be prompted to enter the answer\n",
    "            total_attempts = total_attempts + 1 # it will increment the question asked\n",
    "            \n",
    "            if user_answer == answer: # if the user's answer is correct then we will print correct\n",
    "                print(\"\\nCorrect!\")\n",
    "                correct_answers = correct_answers + 1 # And then increment the score as well\n",
    "            else:\n",
    "                print(f\"\\nIncorrect! The correct answer is {answer}\") # if the answer is incorrect, we will display the correct answer\n",
    "\n",
    "\n",
    "        #Asking user input if they want to play again\n",
    "        play_again = input(\"\\nDo you want to play the riddles again? (yes/no): \")\n",
    "        if play_again != 'yes': #if they say no then it will come out of the loop, if say yes, it will again go back in the for loop\n",
    "            break\n",
    "\n",
    "\n",
    "    # now we will calculate the score\n",
    "    if total_attempts > 0: #applying condition\n",
    "        percentage = (correct_answers / total_attempts) * 100 #should display the score in percentage format\n",
    "        print(f\"\\nGame Over! You got {correct_answers} out of {total_attempts} correct.\")\n",
    "        print(f\"Your score: {percentage:}%\")\n",
    "    else:\n",
    "        print(\"No riddles attempted.\")\n",
    "    \n",
    "\n",
    "\n",
    "riddle_game()"
   ]
  },
  {
   "cell_type": "markdown",
   "id": "8fcd04a9-4eb7-4f21-8c30-31c09884d8fb",
   "metadata": {},
   "source": [
    "### TASK 2"
   ]
  },
  {
   "cell_type": "code",
   "execution_count": 3,
   "id": "012d31d5-66fd-4f27-a31c-b0a4034434fa",
   "metadata": {},
   "outputs": [
    {
     "name": "stdout",
     "output_type": "stream",
     "text": [
      "Welcome to the Simple Brain Teaser!\n",
      "Type 'exit' anytime to stop playing.\n",
      "\n",
      "What is 48 / 4?\n"
     ]
    },
    {
     "name": "stdin",
     "output_type": "stream",
     "text": [
      "Your answer:  12\n"
     ]
    },
    {
     "name": "stdout",
     "output_type": "stream",
     "text": [
      "Correct!\n",
      "\n",
      "What is 20 + 14?\n"
     ]
    },
    {
     "name": "stdin",
     "output_type": "stream",
     "text": [
      "Your answer:  exit\n"
     ]
    },
    {
     "name": "stdout",
     "output_type": "stream",
     "text": [
      "\n",
      "You got 1 out of 1 correct.\n",
      "Your score percentage: 100.00%\n",
      "Thanks for playing!\n"
     ]
    }
   ],
   "source": [
    "# Importing the random module to generate random numbers and operators\n",
    "import random\n",
    "\n",
    "def simple_brain_teaser():\n",
    "    # Initialize score and total question counters\n",
    "    score = 0 # to count the correct answers\n",
    "    total = 0 # to count number as number of questions attempted\n",
    "\n",
    "    print(\"Welcome to the Simple Brain Teaser!\")\n",
    "    print(\"Type 'exit' anytime to stop playing.\")\n",
    "\n",
    "    # Infinite loop will run until user types 'exit'\n",
    "    while True:\n",
    "        # Randomly generate two numbers between 1 and 20\n",
    "        num1 = random.randint(1, 20)\n",
    "        num2 = random.randint(1, 20)\n",
    "        # Randomly select an arithmetic operator\n",
    "        op = random.choice(['+', '-', '*', '/'])\n",
    "\n",
    "        # To avoid division by zero or fractions, adjust numbers for division\n",
    "        if op == '/':\n",
    "            num1 = num1 * num2  # Ensure division result is an integer\n",
    "\n",
    "        # Displaying the arithmetic question to the player\n",
    "        question = f\"{num1} {op} {num2}\"\n",
    "        print(f\"\\nWhat is {question}?\")\n",
    "\n",
    "        # Calculate the correct answer based on the chosen operator\n",
    "        if op == '+':\n",
    "            correct = num1 + num2\n",
    "        elif op == '-':\n",
    "            correct = num1 - num2\n",
    "        elif op == '*':\n",
    "            correct = num1 * num2\n",
    "        elif op == '/':\n",
    "            correct = num1 // num2  # Integer division\n",
    "\n",
    "        # Ask for user's answer\n",
    "        answer = input(\"Your answer: \")\n",
    "\n",
    "        # Check if the player wants to exit the game\n",
    "        if answer.lower() == 'exit':\n",
    "            break\n",
    "\n",
    "        # Validate if input is a valid number +ve or -ve\n",
    "        if not answer.isdigit() and not (answer[0] == '-' and answer[1:].isdigit()):\n",
    "            print(\"Please enter a valid number.\")\n",
    "            continue  # Skip this round and move to the next question\n",
    "\n",
    "        # Check if user's answer is correct\n",
    "        if int(answer) == correct:\n",
    "            print(\"Correct!\")\n",
    "            score += 1  # Increase score for correct answer\n",
    "        else:\n",
    "            print(f\"Incorrect! The correct answer was {correct}.\")\n",
    "\n",
    "        total = total + 1  # Count this question as attempted\n",
    "\n",
    "    # When game ends, display final score and percentage\n",
    "    if total > 0:\n",
    "        print(f\"\\nYou got {score} out of {total} correct.\")\n",
    "        print(f\"Your score percentage: {score/total*100:.2f}%\")\n",
    "    else:\n",
    "        print(\"\\nNo questions attempted.\")\n",
    "\n",
    "    print(\"Thanks for playing!\")\n",
    "\n",
    "# Call the function to start the game\n",
    "simple_brain_teaser()"
   ]
  },
  {
   "cell_type": "markdown",
   "id": "db0e42d1-ce95-4252-bd5c-5f2f1e08f3ef",
   "metadata": {},
   "source": [
    "### TASK 3"
   ]
  },
  {
   "cell_type": "code",
   "execution_count": 15,
   "id": "24babd47-f40d-476a-b4ca-ab2ccadcb764",
   "metadata": {},
   "outputs": [
    {
     "name": "stdout",
     "output_type": "stream",
     "text": [
      "Welcome to the General Knowledge Quiz Game!\n",
      "\n",
      "Choose your category from the following list:\n",
      "1. Science-based\n",
      "2. Mathematics-based\n",
      "3. Geography-based\n",
      "4. Others\n"
     ]
    },
    {
     "name": "stdin",
     "output_type": "stream",
     "text": [
      "Enter the number of your choice:  2\n"
     ]
    },
    {
     "name": "stdout",
     "output_type": "stream",
     "text": [
      "\n",
      "What is the only even prime number?\n"
     ]
    },
    {
     "name": "stdin",
     "output_type": "stream",
     "text": [
      "Your answer:  2\n"
     ]
    },
    {
     "name": "stdout",
     "output_type": "stream",
     "text": [
      "Correct!\n",
      "\n",
      "What is the sum of the first 5 natural numbers?\n"
     ]
    },
    {
     "name": "stdin",
     "output_type": "stream",
     "text": [
      "Your answer:  20\n"
     ]
    },
    {
     "name": "stdout",
     "output_type": "stream",
     "text": [
      "Incorrect! The correct answer is 15.\n",
      "\n",
      "What is the name of the mathematical symbol π?\n"
     ]
    },
    {
     "name": "stdin",
     "output_type": "stream",
     "text": [
      "Your answer:  pie\n"
     ]
    },
    {
     "name": "stdout",
     "output_type": "stream",
     "text": [
      "Incorrect! The correct answer is Pi.\n",
      "\n",
      "You got 1 out of 3 correct.\n",
      "Your score percentage: 33.33%\n"
     ]
    },
    {
     "name": "stdin",
     "output_type": "stream",
     "text": [
      "\n",
      "Do you want to play again? (yes/no):  no\n"
     ]
    },
    {
     "name": "stdout",
     "output_type": "stream",
     "text": [
      "\n",
      "Thank you for playing!\n"
     ]
    }
   ],
   "source": [
    "# Define question for each category using dictionaries\n",
    "science_questions = [\n",
    "    {\"question\": \"Which gas do plants absorb during photosynthesis?\", \"answer\": \"Carbon dioxide\"},\n",
    "    {\"question\": \"What is the full name of the WWW?\", \"answer\": \"World Wide Web\"},\n",
    "    {\"question\": \"How many bones are there in the adult human body?\", \"answer\": \"206\"}\n",
    "]\n",
    "\n",
    "math_questions = [\n",
    "    {\"question\": \"What is the only even prime number?\", \"answer\": \"2\"},\n",
    "    {\"question\": \"What is the sum of the first 5 natural numbers?\", \"answer\": \"15\"},\n",
    "    {\"question\": \"What is the name of the mathematical symbol π?\", \"answer\": \"Pi\"}\n",
    "]\n",
    "\n",
    "geography_questions = [\n",
    "    {\"question\": \"What is the tallest mountain on Earth?\", \"answer\": \"Mount Everest\"},\n",
    "    {\"question\": \"What is the capital of France?\", \"answer\": \"Paris\"},\n",
    "    {\"question\": \"Which planet is known as the 'Red Planet'?\", \"answer\": \"Mars\"}\n",
    "]\n",
    "\n",
    "other_questions = [\n",
    "    {\"question\": \"Which country won the most recent FIFA World Cup (as of 2022)?\", \"answer\": \"Argentina\"},\n",
    "    {\"question\": \"Who invented the light bulb?\", \"answer\": \"Thomas Edison\"},\n",
    "    {\"question\": \"In what year did India declare itself a Democratic and Republic state?\", \"answer\": \"1950\"}\n",
    "]\n",
    "\n",
    "# Function to display category options and get user input\n",
    "def choose_category():\n",
    "    print(\"\\nChoose your category from the following list:\")\n",
    "    print(\"1. Science-based\")\n",
    "    print(\"2. Mathematics-based\")\n",
    "    print(\"3. Geography-based\")\n",
    "    print(\"4. Others\")\n",
    "\n",
    "    while True: #if the condition is true\n",
    "        try:\n",
    "            choice = int(input(\"Enter the number of your choice: \")) #asking user input which category\n",
    "            if choice in [1, 2, 3, 4]:\n",
    "                return choice\n",
    "            else:\n",
    "                print(\"Invalid choice! Please select a number between 1 and 4.\")\n",
    "        except ValueError:\n",
    "            print(\"Please enter a valid number.\")\n",
    "\n",
    "# Function to ask a single question\n",
    "def ask_question(question):\n",
    "    print(\"\\n\" + question)\n",
    "    answer = input(\"Your answer: \") #user will enter their answer\n",
    "    return answer\n",
    "\n",
    "# Function to check user's answer against correct answer\n",
    "def check_answer(user_answer, correct_answer):\n",
    "    if user_answer.lower() == correct_answer.lower(): #if the answer is correct the print correct\n",
    "        print(\"Correct!\")\n",
    "        return True\n",
    "    else: #else incorrect\n",
    "        print(f\"Incorrect! The correct answer is {correct_answer}.\") #also it will help with the correct answer\n",
    "        return False\n",
    "\n",
    "# Function to display final score summary\n",
    "def display_score(questions, score):\n",
    "    total = len(questions)\n",
    "    percentage = (score / total) * 100\n",
    "    print(f\"\\nYou got {score} out of {total} correct.\")\n",
    "    print(f\"Your score percentage: {percentage:.2f}%\")\n",
    "\n",
    "# Function to run through all questions in a category\n",
    "def exec_questions(questions):\n",
    "    score = 0\n",
    "    for q in questions:\n",
    "        user_answer = ask_question(q[\"question\"])\n",
    "        if check_answer(user_answer, q[\"answer\"]):\n",
    "            score += 1\n",
    "    display_score(questions, score)\n",
    "\n",
    "# Main game loop\n",
    "def play_game():\n",
    "    while True:\n",
    "        category_choice = choose_category()\n",
    "\n",
    "        # Determining choice to corresponding question list\n",
    "        if category_choice == 1:\n",
    "            exec_questions(science_questions)\n",
    "        elif category_choice == 2:\n",
    "            exec_questions(math_questions)\n",
    "        elif category_choice == 3:\n",
    "            exec_questions(geography_questions)\n",
    "        elif category_choice == 4:\n",
    "            exec_questions(other_questions)\n",
    "\n",
    "        # Ask if user wants to play again\n",
    "        again = input(\"\\nDo you want to play again? (yes/no): \").lower()\n",
    "        if again != 'yes':\n",
    "            break\n",
    "\n",
    "# Entry point of program\n",
    "if __name__ == \"__main__\":\n",
    "    print(\"Welcome to the General Knowledge Quiz Game!\")\n",
    "    try:\n",
    "        play_game()\n",
    "    except Exception as e:\n",
    "        print(f\"An unexpected error occurred: {e}\")\n",
    "    finally:\n",
    "        print(\"\\nThank you for playing!\")"
   ]
  },
  {
   "cell_type": "markdown",
   "id": "e85a148e-da47-4154-abe0-cc8dae4f74e7",
   "metadata": {},
   "source": [
    "### TASK 4 "
   ]
  },
  {
   "cell_type": "code",
   "execution_count": 14,
   "id": "0a1211fc-7061-493e-8484-42ac554d9180",
   "metadata": {},
   "outputs": [
    {
     "name": "stdout",
     "output_type": "stream",
     "text": [
      "Welcome to Rock-Paper-Scissors Game!\n"
     ]
    },
    {
     "name": "stdin",
     "output_type": "stream",
     "text": [
      "Enter your choice (rock, paper, scissors):  rock\n"
     ]
    },
    {
     "name": "stdout",
     "output_type": "stream",
     "text": [
      "\n",
      "Computer chose: paper\n",
      "You chose: rock\n",
      "Computer wins!\n"
     ]
    },
    {
     "name": "stdin",
     "output_type": "stream",
     "text": [
      "\n",
      "Do you want to play again? (yes/no):  no\n"
     ]
    },
    {
     "name": "stdout",
     "output_type": "stream",
     "text": [
      "\n",
      "Thanks for playing!\n"
     ]
    }
   ],
   "source": [
    "import random\n",
    "\n",
    "# Function to get user's valid choice\n",
    "def get_user_choice():\n",
    "    choice = input(\"Enter your choice (rock, paper, scissors): \").lower() #asking user to enter their choice\n",
    "    while choice not in ['rock', 'paper', 'scissors']: #applying condition if user is entering particular choice\n",
    "        print(\"Invalid input. Please choose 'rock', 'paper', or 'scissors'.\")\n",
    "        choice = input(\"Enter your choice (rock, paper, scissors): \").lower() #if invalid again ask for user input\n",
    "    return choice\n",
    "\n",
    "# Function to determine the winner\n",
    "def determine_winner(computer_choice, user_choice):\n",
    "    print(f\"\\nComputer chose: {computer_choice}\")\n",
    "    print(f\"You chose: {user_choice}\")\n",
    "\n",
    "    if computer_choice == user_choice:\n",
    "        print(\"It's a tie!\") #if chooses same its a tie\n",
    "    elif (computer_choice == 'rock' and user_choice == 'scissors') or \\\n",
    "         (computer_choice == 'paper' and user_choice == 'rock') or \\\n",
    "         (computer_choice == 'scissors' and user_choice == 'paper'):\n",
    "        print(\"Computer wins!\") #applying rules here\n",
    "    else:\n",
    "        print(\"You win!\")\n",
    "\n",
    "# Start game\n",
    "print(\"Welcome to Rock-Paper-Scissors Game!\")\n",
    "play_again = 'yes' #initializing if user wants to play again\n",
    "\n",
    "while play_again == 'yes': #if user says yes then the loop will start\n",
    "    computer_choice = random.choice(['rock', 'paper', 'scissors'])\n",
    "    user_choice = get_user_choice() # creating an instance\n",
    "\n",
    "    determine_winner(computer_choice, user_choice) #instance\n",
    "\n",
    "    #will ask if user wants to play again\n",
    "    play_again = input(\"\\nDo you want to play again? (yes/no): \").lower()\n",
    "    while play_again not in ['yes', 'no']:\n",
    "        print(\"Please type 'yes' or 'no'.\")\n",
    "        play_again = input(\"Do you want to play again? (yes/no): \").lower()\n",
    "\n",
    "print(\"\\nThanks for playing!\")"
   ]
  },
  {
   "cell_type": "markdown",
   "id": "8695e103-2bec-4f53-bb17-a5ec015279ad",
   "metadata": {},
   "source": [
    "### TASK 5"
   ]
  },
  {
   "cell_type": "code",
   "execution_count": 11,
   "id": "287d9246-267f-4f8f-bb7d-8eba603c7e57",
   "metadata": {},
   "outputs": [
    {
     "name": "stdout",
     "output_type": "stream",
     "text": [
      "Welcome to Rock-Paper-Scissors Game!\n"
     ]
    },
    {
     "name": "stdin",
     "output_type": "stream",
     "text": [
      "Hello User1! Enter your name:  abc\n",
      "Hello User2! Enter your name:  xyz\n",
      "Hello abc! Enter a choice (rock, paper, scissors):  rock\n",
      "Hello xyz! Enter a choice (rock, paper, scissors):  paper\n"
     ]
    },
    {
     "name": "stdout",
     "output_type": "stream",
     "text": [
      "paper beats rock. xyz wins!\n"
     ]
    }
   ],
   "source": [
    "# Rock-Paper-Scissors game for two players\n",
    "\n",
    "#Defining a function for player's choice\n",
    "def get_player_choice(player_name):\n",
    "    #Prompt the player to enter their choice and validate it\n",
    "    while True:\n",
    "        try:\n",
    "            choice = input(f\"Hello {player_name}! Enter a choice (rock, paper, scissors): \").lower()\n",
    "            if choice in ['rock', 'paper', 'scissors']: #applying condition after user enters the choice\n",
    "                return choice\n",
    "            else:\n",
    "                print(\"Invalid input. Please choose 'rock', 'paper', or 'scissors'.\") #possibly entering wrong spelling\n",
    "        except Exception as e:\n",
    "            print(\"An error occurred:\", e)\n",
    "\n",
    "# A function to determine the winner\n",
    "def determine_winner(player1_name, player1_choice, player2_name, player2_choice):\n",
    "    #Determine and print the winner based on game rules\n",
    "    if player1_choice == player2_choice:\n",
    "        print(\"It's a tie!\") #1st condition, if both enters same choice\n",
    "    elif (player1_choice == 'rock' and player2_choice == 'scissors') or  \\\n",
    "         (player1_choice == 'paper' and player2_choice == 'rock') or \\\n",
    "         (player1_choice == 'scissors' and player2_choice == 'paper'):\n",
    "        print(f\"{player1_choice} beats {player2_choice}. {player1_name} wins!\") #then the actual rules\n",
    "    else:\n",
    "        print(f\"{player2_choice} beats {player1_choice}. {player2_name} wins!\")\n",
    "\n",
    "def main():\n",
    "    #Main function to run the Rock-Paper-Scissors game\n",
    "    print(\"Welcome to Rock-Paper-Scissors Game!\")\n",
    "\n",
    "    # Get player names\n",
    "    player1_name = input(\"Hello User1! Enter your name: \")\n",
    "    player2_name = input(\"Hello User2! Enter your name: \")\n",
    "\n",
    "    # Get player choices (instances/objects)\n",
    "    player1_choice = get_player_choice(player1_name)\n",
    "    player2_choice = get_player_choice(player2_name)\n",
    "\n",
    "    # Determine and display the winner\n",
    "    determine_winner(player1_name, player1_choice, player2_name, player2_choice)\n",
    "\n",
    "#main function syntax\n",
    "if __name__ == \"__main__\":\n",
    "    main()"
   ]
  },
  {
   "cell_type": "code",
   "execution_count": null,
   "id": "692bfd10-722e-4855-adff-92f8ae4439e0",
   "metadata": {},
   "outputs": [],
   "source": []
  }
 ],
 "metadata": {
  "kernelspec": {
   "display_name": "Python [conda env:base] *",
   "language": "python",
   "name": "conda-base-py"
  },
  "language_info": {
   "codemirror_mode": {
    "name": "ipython",
    "version": 3
   },
   "file_extension": ".py",
   "mimetype": "text/x-python",
   "name": "python",
   "nbconvert_exporter": "python",
   "pygments_lexer": "ipython3",
   "version": "3.12.7"
  }
 },
 "nbformat": 4,
 "nbformat_minor": 5
}
